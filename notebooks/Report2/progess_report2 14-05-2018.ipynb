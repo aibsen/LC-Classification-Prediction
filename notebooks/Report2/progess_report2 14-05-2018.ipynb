{
 "cells": [
  {
   "cell_type": "markdown",
   "metadata": {},
   "source": [
    "<h1>CRTS Light Curve Classification</h1>"
   ]
  },
  {
   "cell_type": "markdown",
   "metadata": {},
   "source": [
    "<h2>Classifying dataset taking out HPM objects</h2>\n",
    "<h3>feature_pre_processing.py</h3>\n",
    "<p><b>remove_hpm:</b> code to remove high proper motion objects from data set</p>"
   ]
  },
  {
   "cell_type": "code",
   "execution_count": null,
   "metadata": {},
   "outputs": [],
   "source": [
    "def remove_hpm(tagged_features):\n",
    "    tagged_features = tagged_features[tagged_features['tag']!=4]\n",
    "    return tagged_features"
   ]
  },
  {
   "cell_type": "markdown",
   "metadata": {},
   "source": [
    "<div  style=\"margin-top:0px;\">\n",
    "    <div class=\"pull-left\">\n",
    "<table>\n",
    "<tr><td>Class</td><td>Precision-with HPM</td><td>Precision without HPM</td></tr>\n",
    "<tr><td>0-AGN</td><td>0.74</td><td>0.75</td></tr>\n",
    "<tr ><td>1-Blazar</td><td>0.42</td><td>0.51</td></tr>\n",
    "<tr><td>2-CV</td><td>0.63</td><td>0.68</td></tr>\n",
    "<tr><td>3-Flare</td><td>0.53</td><td>0.53</td></tr>\n",
    "<tr style=\"color:red;\"><td>4-HPM</td><td>0.93</td><td>x</td></tr>\n",
    "<tr><td>5-SN</td><td>0.72</td><td>0.70</td></tr>\n",
    "<tr ><td>7-Var</td><td>0.54</td><td>0.60</tr>\n",
    "<tr style=\"color:blue;\"><td>Mean Score</td><td>0.726</td><td>0.707</tr>\n",
    "</table>\n",
    "</div>\n",
    "<div class=\"pull-left\">\n",
    "<img style=\"width:65%;\" src=\"img/score-plot-all-1.png\"/> \n",
    "</div>\n",
    "\n",
    "</div>"
   ]
  },
  {
   "cell_type": "markdown",
   "metadata": {},
   "source": [
    "<h2>Classifying main classes only</h2>\n",
    "<p>Only cosidered objects originally marked as one of these classes:</p>\n",
    "<div >\n",
    "    <div class=\"pull-left\">\n",
    "<table>\n",
    "<tr><td>Class</td><td>Precision-main classes only</td><td>Precision- all</td><td>Support-main classes only</td><td>Support-all</td></tr>\n",
    "<tr style=\"color:green;\"><td>0-AGN</td><td>0.82</td><td>0.74</td><td>740</td><td>980</td></tr>\n",
    "<tr ><td>1-Blazar</td><td>0.46</td><td>0.42</td><td>101</td><td>116</td></tr>\n",
    "<tr><td>2-CV</td><td>0.64</td><td>0.63</td><td>335</td><td>390</td></tr>\n",
    "<tr><td>3-Flare</td><td>0.68</td><td>0.53</td><td>68</td><td>74</td></tr>\n",
    "<tr><td>5-SN</td><td>0.73</td><td>0.72</td><td>718</td><td>1054</td></tr>\n",
    "<tr ><td>7-Var</td><td>0.67</td><td>0.54</td><td>47</td><td>60</td></tr>\n",
    "<tr style=\"color:blue;\"><td>AVG/Total</td><td>0.73</td><td>0.71</td><td>2009</td><td>2881</td></tr>\n",
    "</table>\n",
    "</div>\n",
    "\n",
    "\n",
    "\n",
    "\n",
    "</div>"
   ]
  },
  {
   "cell_type": "markdown",
   "metadata": {},
   "source": [
    "<div class=\"pull-left\" >\n",
    "    <img style=\"width:75%;\" src=\"img/score-plot-main-2.png\"/> \n",
    "</div>"
   ]
  },
  {
   "cell_type": "markdown",
   "metadata": {},
   "source": [
    "<h2>Ranking Features</h2>\n",
    "<p>Several methods were used to rank features</p>\n",
    "<ul>\n",
    "    <li>1.-Select-K-Best</li>\n",
    "    <li>2.-Generic Univariate Select</li>\n",
    "    <li>3.-Variance Threshold</li>\n",
    "    <li>4.-Select Percentile</li>\n",
    "</ul>\n",
    "\n",
    "<h3>1.-Select K Best, K = 5</h3>\n",
    "<p>Selects features according to the k highest scores. These scores are calculated using the following functions:</p>\n",
    "<h4>f-classif:</h4>\n",
    "<p>Compute the ANOVA F-value for the provided sample. The formula for one way ANOVA F-test is:</p>\n",
    "<div class=\"pull-left\"><img  style=\"width:85%;\" src=\"img/anovaftest1.png\"/> </div>\n",
    "\n"
   ]
  },
  {
   "cell_type": "markdown",
   "metadata": {},
   "source": [
    "<p>Where between group variability is:</p>\n",
    "<div class=\"pull-left\"><img style=\"width:85%;\" src=\"img/anovaftest2.png\"/> </div>\n",
    "\n",
    "<div class=\"pull-left\">\n",
    "<table>\n",
    "<tr><td><img style=\"width:65%;\" src=\"img/ni.png\"/></td><td>number of observations in the ith group</td></tr>\n",
    "<tr ><td><img style=\"width:65%;\" src=\"img/yi.png\"/></td><td>sample mean in ith group</td></tr>\n",
    "<tr ><td><img style=\"width:55%;\" src=\"img/y.png\"/></td><td>overall mean</td></tr>\n",
    "<tr><td><img style=\"width:55%;\" src=\"img/k.png\"/></td><td>number of groups</td></tr>\n",
    "</table>\n",
    "</div>\n",
    "\n"
   ]
  },
  {
   "cell_type": "markdown",
   "metadata": {},
   "source": [
    "<p>and within group variability is:</p>\n",
    "<div class=\"pull-left\"><img style=\"width:85%;\" src=\"img/anovaftest3.png\"/> </div>\n",
    "<div class=\"pull-left\">\n",
    "<table>\n",
    "<tr><td><img style=\"width:65%;\" src=\"img/yij.png\"/></td><td>jth observation in the ith group</td></tr>\n",
    "<tr ><td><img style=\"width:65%;\" src=\"img/yi.png\"/></td><td>sample mean in ith group</td></tr>\n",
    "<tr ><td><img style=\"width:55%;\" src=\"img/n.png\"/></td><td>overall sample size</td></tr>\n",
    "<tr><td><img style=\"width:55%;\" src=\"img/k.png\"/></td><td>number of groups</td></tr>\n",
    "</table>\n",
    "</div>\n"
   ]
  },
  {
   "cell_type": "markdown",
   "metadata": {},
   "source": [
    "<h4>multi-info-classif:</h4>\n",
    "<p>Mutual information of two random variables  is a measure of the mutual dependence. More specifically, it quantifies the \"amount of information\" obtained about one random variable, through the other random variable: </p>\n",
    "<div class=\"pull-left\"><img  style=\"width:85%;\" src=\"img/mutualinfo.png\"/> </div>"
   ]
  },
  {
   "cell_type": "markdown",
   "metadata": {},
   "source": [
    "<h3>2.-Generic Univariate Select</h3>\n",
    "<p>Univariate feature selector. The same 2 functions from above where used</p>\n",
    "<h3>3.-Variance Threshold 80%</h3>\n",
    "<p> It removes all features whose variance doesn’t meet some threshold.By default, it removes all zero-variance features, i.e. features that have the same value in all samples.</p>\n",
    "<div class=\"pull-left\"><img  style=\"width:80%;\" src=\"img/var.png\"/> </div>\n"
   ]
  },
  {
   "cell_type": "markdown",
   "metadata": {},
   "source": [
    "<h3>4.-Select Percentile 25</h3>\n",
    "<p> Removes all but highest scoring percentage of features. It was also computed using f-classif and multi-info-classif</p>"
   ]
  },
  {
   "cell_type": "markdown",
   "metadata": {},
   "source": [
    "<h3>feature_ranking.py</h3>\n",
    "<h5>Code to iterate over different feature selection methods and get the lists of most useful ones</h5>"
   ]
  },
  {
   "cell_type": "code",
   "execution_count": null,
   "metadata": {},
   "outputs": [],
   "source": [
    "feature_selection_methods = [\n",
    "    VarianceThreshold(threshold=(.8 * (1 - .8))),\n",
    "    SelectKBest(k=5),\n",
    "    SelectKBest(score_func=mutual_info_classif, k=5),\n",
    "    SelectPercentile(percentile = 25),\n",
    "    GenericUnivariateSelect(),\n",
    "    GenericUnivariateSelect(score_func=mutual_info_classif),\n",
    "] \n",
    "\n",
    "feature_selection_names = [\n",
    "    \"VarianceThreshold 80%\",\n",
    "    \"SelectKBest(k=5)\",\n",
    "    \"SelectKBest(mutual_info_classif, k=5)\",\n",
    "    \"SelectPercentile 25\",\n",
    "    \"GenericUnivariateSelect\",\n",
    "    \"GenericUnivariateSelect(mutual_info_classif)\",\n",
    "]  \n",
    "\n",
    "if __name__ == \"__main__\":\n",
    "    inputFile = \"data/clean_tagged_features.csv\"\n",
    "    data = pd.read_csv(inputFile, sep=\",\")\n",
    "    X = data[clean_feature_list]\n",
    "    Y = data[\"tag\"]\n",
    "    for i,selection in enumerate(feature_selection_methods):\n",
    "        fit = selection.fit(X,Y)\n",
    "        features = selection.get_support(indices=True)\n",
    "        feature_names = [clean_feature_list[item] for item in features]        \n",
    "        print(feature_selection_names[i]+\": \"+ str(feature_names))"
   ]
  },
  {
   "cell_type": "markdown",
   "metadata": {},
   "source": [
    "<h3>Resulting features</h3>\n",
    "<div class=\"pull-left\">\n",
    "<ul>\n",
    "<li>Amplitude</li>\n",
    "<li>Small Kurtosis</li>\n",
    "<li>Standard Deviation</li>\n",
    "<li>Q31</li>\n",
    "<li>GSkew</li>\n",
    "<li>Mean Variance</li>\n",
    "<li>Percent Difference Flux Percentile</li>\n",
    "<li>Skew</li>\n",
    "<li>Autocorrelation Length</li>\n",
    "<li>Mean</li>\n",
    "</ul></div>\n",
    "<div class=\"pull-left\">\n",
    "<table class=\"pull-left\">\n",
    "<tr><td>Method</td><td>Features</td></tr>\n",
    "<tr><td>VarianceThreshold 80%</td><td>[\n",
    "    'amplitude', 'mean', 'std', 'q31', 'gskew', 'smallKurtosis', 'autocor_length', 'skew']</td></tr>\n",
    "<tr ><td>SelectKBest(k=5)</td><td>['amplitude', 'std', 'percentDifferenceFluxPercentile', 'q31', 'meanVariance']</td></tr>\n",
    "<tr ><td>SelectKBest(mutual_info_classif, k=5)</td><td>['amplitude', 'mean', 'percentDifferenceFluxPercentile', 'gskew', 'meanVariance']</td></tr>\n",
    "<tr><td>SelectPercentile 25</td><td>['amplitude', 'mean', 'std', 'percentDifferenceFluxPercentile', 'q31', 'meanVariance']</td></tr>\n",
    "<tr><td>GenericUnivariateSelect</td><td>['meanVariance']</td></tr>\n",
    "<tr><td>GenericUnivariateSelect(mutual_info_classif)</td><td>['gskew']</td></tr>\n",
    "</table>\n",
    "</div>\n"
   ]
  },
  {
   "cell_type": "markdown",
   "metadata": {},
   "source": [
    "<h3>Results using ranked features</h3>\n",
    "<div class=\"pull-left\">\n",
    "<table class=\"pull-left\">\n",
    "<tr><td>Method</td><td>Mean Scores all-classes</td><td>Mean Scores main-classes</td></tr>\n",
    "<tr><td>VarianceThreshold 80%</td><td> 0.699</td><td>0.717</td></tr>\n",
    "<tr ><td>SelectKBest(k=5)</td><td>0.612</td><td>0.648</td></tr>\n",
    "<tr ><td>SelectKBest(mutual_info_classif, k=5)</td><td> 0.680</td><td>0.696</td></tr>\n",
    "<tr><td>SelectPercentile 25</td><td>0.661</td><td>0.681</td></tr>\n",
    "<tr style=\"color:green;\"><td>All Ranked Features</td><td>0.686</td><td>0.724</td></tr>\n",
    "<tr style=\"color:blue;\"><td>All Features</td><td>0.707</td><td>0.722</td></tr>\n",
    "</table>\n",
    "</div>"
   ]
  },
  {
   "cell_type": "markdown",
   "metadata": {},
   "source": [
    "<h2>Visual Analysis</h2>\n",
    "\n",
    "<div class=\"pull-left\"><img src=\"img/fp3.png\"/> </div>"
   ]
  },
  {
   "cell_type": "markdown",
   "metadata": {},
   "source": [
    "<h2>PCA</h2>\n",
    "<h3>pca.py</h3>\n",
    "<h5>Code to apply Principal Component Analysis to features and reduce them to 5, 10 and 15</h5>"
   ]
  },
  {
   "cell_type": "code",
   "execution_count": null,
   "metadata": {},
   "outputs": [],
   "source": [
    "#load data\n",
    "data_dir = dirname(dirname(abspath(__file__)))+\"/data/\"\n",
    "output = data_dir+\"pca/\"\n",
    "inputFile = data_dir+\"clean_tagged_features.csv\"\n",
    "data = pd.read_csv(inputFile, sep=\",\")\n",
    "X = data[clean_feature_list]\n",
    "Y = data[\"tag\"]\n",
    "\n",
    "#PCA for 3 cases\n",
    "for n in [5,10,15]:\n",
    "    pca = PCA(n_components=n)\n",
    "    new_X = pca.fit_transform(X)\n",
    "    newdf = pd.DataFrame(new_X)\n",
    "    newdf[\"tag\"]=Y\n",
    "    newdf.to_csv(output+str(n)+\".csv\", sep=',')\n"
   ]
  },
  {
   "cell_type": "markdown",
   "metadata": {},
   "source": [
    "<h3>Results using PCA</h3>\n",
    "<div class=\"pull-left\">\n",
    "<table class=\"pull-left\">\n",
    "<tr><td>Method</td><td>Mean Scores all-classes</td><td>Mean Scores main-classes</td></tr>\n",
    "<tr><td>PCA5</td><td> 0.679</td><td>0.706</td></tr>\n",
    "<tr><td>PCA10</td><td>0.706</td><td>0.726</td></tr>\n",
    "<tr><td>PCA15</td><td>0.711</td><td>0.734</td></tr>\n",
    "</table>\n",
    "</div>\n",
    "<div class=\"pull-left\"><img style=\"width:75%;\" src=\"img/scpca15.png\"/> </div>"
   ]
  },
  {
   "cell_type": "markdown",
   "metadata": {},
   "source": [
    "<h2>Which features should I add next?</h2>\n",
    "<div class=\"pull-left\"><img src=\"img/fnext.png\"/> </div>"
   ]
  },
  {
   "cell_type": "markdown",
   "metadata": {},
   "source": [
    "<ul>\n",
    "    <li>PeriodLS</li>\n",
    "    <li>StetsonJ</li>\n",
    "    <li>StetsonK</li>\n",
    "    <li>Von-Neumann Ratio</li>\n",
    "    <li>Inter Quartile Range</li>\n",
    "    <li>Kurtosis</li>\n",
    "    <li>Robust Median Statistic</li>\n",
    "</ul>"
   ]
  },
  {
   "cell_type": "markdown",
   "metadata": {},
   "source": [
    "<h2>Differences in mangintude and time</h2>\n",
    "<h3>dmdtmapping.py</h3>\n",
    "<h5>Code to get the dm dt mapping for a light curve</h5>\n",
    "\n",
    "<p>For each pair of points in a light curve:</p>\n",
    "<ul>\n",
    " <li>calculate difference in magnitude</li>\n",
    " <li>calculate difference in time</li>\n",
    " <li>End up with p points for a light curve of length n:\n",
    "    p = n ∗ (n − 1)/2 </li>\n",
    " <li>dm and dt are binned and a 2D representatio is obtained</li>\n",
    " <li>The 2D representation is then normalized to fit values between 0 and 255</li>\n",
    "</ul>\n",
    " \n",
    "\n",
    "\n",
    "<p>ranges for dm = ±[0,0.1,0.2,0.3,0.5,1,1.5,2,2.5,3,5,8]</p> \n",
    "<p>ranges for dt = [1/145,2/145,3/145,4/145,1/25,2/25,3/25,1.5,2.5,3.5,\n",
    "4.5,5.5,7,10,20,30,60,90,120,240,600,960,2000,4000]</p>\n"
   ]
  },
  {
   "cell_type": "code",
   "execution_count": null,
   "metadata": {},
   "outputs": [],
   "source": [
    "featuresdf = pd.DataFrame(columns = fnames)\n",
    "errorsdf = pd.DataFrame(columns=['filename','error'])\n",
    "\n",
    "def normalized_image_intensity(nbin,p):\n",
    "    i = int(225*nbin/p + 0.99999)\n",
    "    return i\n",
    "\n",
    "def get_dmdts(lc, tag, objid):\n",
    "    global featuresdf\n",
    "    #n = number of points in the light curve\n",
    "    n = lc.shape[1]\n",
    "    #p = number of dm and dt for each pair of points\n",
    "    p = (n*(n-1))/2\n",
    "    ms = lc[0]\n",
    "    ts = lc[1]\n",
    "    #calculate dm\n",
    "    dms = [abs(y - x) for x, y in it.combinations(ms, 2)]\n",
    "    binsdm = np.histogram(dms, bins=dmranges)\n",
    "    #calculate dt\n",
    "    dts = [abs(y - x) for x, y in it.combinations(ts, 2)]\n",
    "    binsdt = np.histogram(dts, bins=dtranges)\n",
    "    #normalize image intensity so it's at most 225\n",
    "    dm_norm =[normalized_image_intensity(bin, p) for bin in binsdm[0]]\n",
    "    dt_norm =[normalized_image_intensity(bin, p) for bin in binsdt[0]]\n",
    "    content = [objid]+dm_norm+dt_norm+[tag]\n",
    "    feature_row = pd.DataFrame([content], columns = fnames)\n",
    "    featuresdf = pd.concat([featuresdf,feature_row], ignore_index=True)"
   ]
  },
  {
   "cell_type": "markdown",
   "metadata": {},
   "source": [
    "<h2>Results so far</h2>\n",
    "\n",
    "<ul>\n",
    " <li>NN and Random Forest are the classifiers that overall are performing best so far</li>\n",
    " <li>Features that work best so far: PCA15, ranked and all</li>\n",
    " <li>dm and dt did not perform well, but there are 2 things I haven't tried yet\n",
    "    <ul>\n",
    "     <li>Changing the ranges of the bins to account for big changes in manitude in small periods of time</li>\n",
    "     <li>Used dm dts to train a classifier that works well with 2D images, such as CNNs</li>\n",
    "    </ul>\n",
    "  </li>\n",
    "</ul>\n",
    "\n",
    "<div class=\"pull-left\"><img src=\"img/compare.png\"/> </div>"
   ]
  },
  {
   "cell_type": "markdown",
   "metadata": {},
   "source": [
    "<h2>Ideas</h2>\n",
    "<ul>\n",
    "    <li>Construct a bigger dataset</li>\n",
    "    <li>Change bin ranges for and dm dt</li>\n",
    "    <li>Code missing features</li>\n",
    "    <li>Try different classifiers (like CNN)</li>\n",
    "    <li>Clustering</li>\n",
    "\n",
    "</ul>\n"
   ]
  }
 ],
 "metadata": {
  "kernelspec": {
   "display_name": "Python 3",
   "language": "python",
   "name": "python3"
  },
  "language_info": {
   "codemirror_mode": {
    "name": "ipython",
    "version": 3
   },
   "file_extension": ".py",
   "mimetype": "text/x-python",
   "name": "python",
   "nbconvert_exporter": "python",
   "pygments_lexer": "ipython3",
   "version": "3.6.4"
  }
 },
 "nbformat": 4,
 "nbformat_minor": 2
}
