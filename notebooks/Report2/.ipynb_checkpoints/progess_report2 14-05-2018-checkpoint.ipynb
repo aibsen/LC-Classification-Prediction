{
 "cells": [
  {
   "cell_type": "markdown",
   "metadata": {},
   "source": [
    "<h1>CRTS Light Curve Classification</h1>"
   ]
  },
  {
   "cell_type": "markdown",
   "metadata": {},
   "source": [
    "<h2>Classifying dataset taking out HPM objects</h2>\n",
    "<h3>feature_pre_processing.py</h3>\n",
    "<p><b>remove_hpm:</b> code to remove high proper motion objects from data set</p>"
   ]
  },
  {
   "cell_type": "code",
   "execution_count": null,
   "metadata": {},
   "outputs": [],
   "source": [
    "def remove_hpm(tagged_features):\n",
    "    tagged_features = tagged_features[tagged_features['tag']!=4]\n",
    "    return tagged_features"
   ]
  },
  {
   "cell_type": "markdown",
   "metadata": {},
   "source": [
    "<div  style=\"margin-top:0px;\">\n",
    "    <div class=\"pull-left\">\n",
    "<table>\n",
    "<tr><td>Class</td><td>Precision-with HPM</td><td>Precision without HPM</td></tr>\n",
    "<tr><td>0-AGN</td><td>0.74</td><td>0.75</td></tr>\n",
    "<tr ><td>1-Blazar</td><td>0.42</td><td>0.51</td></tr>\n",
    "<tr><td>2-CV</td><td>0.63</td><td>0.68</td></tr>\n",
    "<tr><td>3-Flare</td><td>0.53</td><td>0.53</td></tr>\n",
    "<tr style=\"color:red;\"><td>4-HPM</td><td>0.93</td><td>x</td></tr>\n",
    "<tr><td>5-SN</td><td>0.72</td><td>0.70</td></tr>\n",
    "<tr ><td>7-Var</td><td>0.54</td><td>0.60</tr>\n",
    "<tr style=\"color:blue;\"><td>Mean Score</td><td>0.726</td><td>0.707</tr>\n",
    "</table>\n",
    "</div>\n",
    "<div class=\"pull-left\">\n",
    "<img style=\"width:65%;\" src=\"img/score-plot-all-1.png\"/> \n",
    "</div>\n",
    "\n",
    "</div>"
   ]
  },
  {
   "cell_type": "markdown",
   "metadata": {},
   "source": [
    "<h2>Classifying main classes only</h2>\n",
    "<p>Only cosidered objects originally marked as one of these classes:</p>\n",
    "<div >\n",
    "    <div class=\"pull-left\">\n",
    "<table>\n",
    "<tr><td>Class</td><td>Precision-main classes only</td><td>Precision- all</td><td>Support-main classes only</td><td>Support-all</td></tr>\n",
    "<tr style=\"color:green;\"><td>0-AGN</td><td>0.82</td><td>0.74</td><td>740</td><td>980</td></tr>\n",
    "<tr ><td>1-Blazar</td><td>0.46</td><td>0.42</td><td>101</td><td>116</td></tr>\n",
    "<tr><td>2-CV</td><td>0.64</td><td>0.63</td><td>335</td><td>390</td></tr>\n",
    "<tr><td>3-Flare</td><td>0.68</td><td>0.53</td><td>68</td><td>74</td></tr>\n",
    "<tr><td>5-SN</td><td>0.73</td><td>0.72</td><td>718</td><td>1054</td></tr>\n",
    "<tr ><td>7-Var</td><td>0.67</td><td>0.54</td><td>47</td><td>60</td></tr>\n",
    "<tr style=\"color:blue;\"><td>AVG/Total</td><td>0.73</td><td>0.71</td><td>2009</td><td>2881</td></tr>\n",
    "</table>\n",
    "</div>\n",
    "\n",
    "\n",
    "\n",
    "\n",
    "</div>"
   ]
  },
  {
   "cell_type": "markdown",
   "metadata": {},
   "source": [
    "<div class=\"pull-left\" >\n",
    "    <img style=\"width:75%;\" src=\"img/score-plot-main-2.png\"/> \n",
    "</div>"
   ]
  },
  {
   "cell_type": "markdown",
   "metadata": {},
   "source": [
    "<h2>Ranking Features</h2>\n",
    "<p>Several methods were used to rank features</p>\n",
    "<ul>\n",
    "    <li>Select-K-Best</li>\n",
    "    <li>Generic Univariate Select</li>\n",
    "    <li>Variance Threshold</li>\n",
    "    <li>Select Percentile</li>\n",
    "</ul>\n",
    "\n",
    "<h3>Select K Best, K = 5</h3>\n",
    "<p>Selects features according to the k highest scores. These scores are calculated using the following functions:</p>\n",
    "<h4>f-classif:</h4>\n",
    "<p>Compute the ANOVA F-value for the provided sample. The formula for one way ANOVA F-test is:</p>\n",
    "<div class=\"pull-left\"><img  style=\"width:85%;\" src=\"img/anovaftest1.png\"/> </div>\n",
    "\n"
   ]
  },
  {
   "cell_type": "markdown",
   "metadata": {},
   "source": [
    "<p>Where between group variability is:</p>\n",
    "<div class=\"pull-left\"><img style=\"width:85%;\" src=\"img/anovaftest2.png\"/> </div>\n",
    "\n",
    "<div class=\"pull-left\">\n",
    "<table>\n",
    "<tr><td><img style=\"width:65%;\" src=\"img/ni.png\"/></td><td>number of observations in the ith group</td></tr>\n",
    "<tr ><td><img style=\"width:65%;\" src=\"img/yi.png\"/></td><td>sample mean in ith group</td></tr>\n",
    "<tr ><td><img style=\"width:55%;\" src=\"img/y.png\"/></td><td>overall mean</td></tr>\n",
    "<tr><td><img style=\"width:55%;\" src=\"img/k.png\"/></td><td>number of groups</td></tr>\n",
    "</table>\n",
    "</div>\n",
    "\n"
   ]
  },
  {
   "cell_type": "markdown",
   "metadata": {},
   "source": [
    "<p>and within group variability is:</p>\n",
    "<div class=\"pull-left\"><img style=\"width:85%;\" src=\"img/anovaftest3.png\"/> </div>\n",
    "<div class=\"pull-left\">\n",
    "<table>\n",
    "<tr><td><img style=\"width:65%;\" src=\"img/yij.png\"/></td><td>jth observation in the ith group</td></tr>\n",
    "<tr ><td><img style=\"width:65%;\" src=\"img/yi.png\"/></td><td>sample mean in ith group</td></tr>\n",
    "<tr ><td><img style=\"width:55%;\" src=\"img/n.png\"/></td><td>overall sample size</td></tr>\n",
    "<tr><td><img style=\"width:55%;\" src=\"img/k.png\"/></td><td>number of groups</td></tr>\n",
    "</table>\n",
    "</div>\n"
   ]
  },
  {
   "cell_type": "markdown",
   "metadata": {},
   "source": [
    "<h2>Visual Analysis</h2>"
   ]
  },
  {
   "cell_type": "markdown",
   "metadata": {},
   "source": [
    "<h2>PCA</h2>\n",
    "<h3>pca.py</h3>\n",
    "<h5>Code to apply Principal Component Analysis to features and reduce them to 5, 10 and 15</h5>"
   ]
  },
  {
   "cell_type": "code",
   "execution_count": null,
   "metadata": {},
   "outputs": [],
   "source": [
    "#load data\n",
    "data_dir = dirname(dirname(abspath(__file__)))+\"/data/\"\n",
    "output = data_dir+\"pca/\"\n",
    "inputFile = data_dir+\"clean_tagged_features.csv\"\n",
    "data = pd.read_csv(inputFile, sep=\",\")\n",
    "X = data[clean_feature_list]\n",
    "Y = data[\"tag\"]\n",
    "\n",
    "#PCA for 3 cases\n",
    "for n in [5,10,15]:\n",
    "    pca = PCA(n_components=n)\n",
    "    new_X = pca.fit_transform(X)\n",
    "    newdf = pd.DataFrame(new_X)\n",
    "    newdf[\"tag\"]=Y\n",
    "    newdf.to_csv(output+str(n)+\".csv\", sep=',')\n"
   ]
  },
  {
   "cell_type": "markdown",
   "metadata": {},
   "source": [
    "<h2>Trying to introduce more features</h2>"
   ]
  },
  {
   "cell_type": "markdown",
   "metadata": {},
   "source": [
    "<h2>Differences in mangintude and time</h2>r\n",
    "<h3>dmdtmapping.py</h3>\n",
    "<h5>Code to get the dm dt mapping for a light curve</h5>\n",
    "\n",
    "<p>For each pair of points in a light curve:</p>\n",
    "<ul>\n",
    " <li>calculate difference in magnitude</li>\n",
    " <li>calculate difference in time</li>\n",
    " <li>End up with p points for a light curve of length n:\n",
    "    p = n ∗ (n − 1)/2 </li>\n",
    " <li>dm and dt are binned and a 2D representatio is obtained</li>\n",
    " <li>The 2D representation is then normalized to fit values between 0 and 255</li>\n",
    "</ul>\n",
    " \n",
    "\n",
    "\n",
    "ranges for dm = ±[0,0.1,0.2,0.3,0.5,1,1.5,2,2.5,3,5,8] \n",
    "ranges for dt = [1/145,2/145,3/145,4/145,1/25,2/25,3/25,1.5,2.5,3.5,\n",
    "4.5,5.5,7,10,20,30,60,90,120,240,600,960,2000,4000]\n"
   ]
  },
  {
   "cell_type": "code",
   "execution_count": null,
   "metadata": {},
   "outputs": [],
   "source": [
    "featuresdf = pd.DataFrame(columns = fnames)\n",
    "errorsdf = pd.DataFrame(columns=['filename','error'])\n",
    "\n",
    "def normalized_image_intensity(nbin,p):\n",
    "    i = int(225*nbin/p + 0.99999)\n",
    "    return i\n",
    "\n",
    "def get_dmdts(lc, tag, objid):\n",
    "    global featuresdf\n",
    "    #n = number of points in the light curve\n",
    "    n = lc.shape[1]\n",
    "    #p = number of dm and dt for each pair of points\n",
    "    p = (n*(n-1))/2\n",
    "    ms = lc[0]\n",
    "    ts = lc[1]\n",
    "    #calculate dm\n",
    "    dms = [abs(y - x) for x, y in it.combinations(ms, 2)]\n",
    "    binsdm = np.histogram(dms, bins=dmranges)\n",
    "    #calculate dt\n",
    "    dts = [abs(y - x) for x, y in it.combinations(ts, 2)]\n",
    "    binsdt = np.histogram(dts, bins=dtranges)\n",
    "    #normalize image intensity so it's at most 225\n",
    "    dm_norm =[normalized_image_intensity(bin, p) for bin in binsdm[0]]\n",
    "    dt_norm =[normalized_image_intensity(bin, p) for bin in binsdt[0]]\n",
    "    content = [objid]+dm_norm+dt_norm+[tag]\n",
    "    feature_row = pd.DataFrame([content], columns = fnames)\n",
    "    featuresdf = pd.concat([featuresdf,feature_row], ignore_index=True)"
   ]
  },
  {
   "cell_type": "markdown",
   "metadata": {},
   "source": [
    "<h2>Results so far</h2>\n"
   ]
  },
  {
   "cell_type": "markdown",
   "metadata": {},
   "source": [
    "<h2>Ideas</h2>\n",
    "<ul>\n",
    "    <li>Construct a bigger dataset</li>\n",
    "    <li>Try different classifiers (like CNN)</li>\n",
    "    <li>Clustering</li>\n",
    "    <li>Vary ranges of bins for and dm dt</li>\n",
    "</ul>\n"
   ]
  }
 ],
 "metadata": {
  "kernelspec": {
   "display_name": "Python 3",
   "language": "python",
   "name": "python3"
  },
  "language_info": {
   "codemirror_mode": {
    "name": "ipython",
    "version": 3
   },
   "file_extension": ".py",
   "mimetype": "text/x-python",
   "name": "python",
   "nbconvert_exporter": "python",
   "pygments_lexer": "ipython3",
   "version": "3.6.4"
  }
 },
 "nbformat": 4,
 "nbformat_minor": 2
}
